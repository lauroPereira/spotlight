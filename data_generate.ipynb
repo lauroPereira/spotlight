{
 "cells": [
  {
   "cell_type": "code",
   "execution_count": 1,
   "id": "a5a28c38",
   "metadata": {},
   "outputs": [],
   "source": [
    "import json\n",
    "import os"
   ]
  },
  {
   "cell_type": "code",
   "execution_count": 2,
   "id": "e757ccf7",
   "metadata": {},
   "outputs": [],
   "source": [
    "# Reclamações fictícias simulando problemas comuns\n",
    "complaints = [\n",
    "    \"Recebi uma cobrança indevida no cartão de crédito referente a uma fatura já paga.\",\n",
    "    \"Meu pedido está atrasado há mais de duas semanas e não recebi nenhuma atualização.\",\n",
    "    \"O atendimento via chat demora demais para responder e muitas vezes desconecta sozinho.\",\n",
    "    \"Fiz o cancelamento do serviço e mesmo assim continuaram me cobrando.\",\n",
    "    \"A instalação da internet foi agendada, mas o técnico não apareceu.\",\n",
    "    \"Recebi um produto diferente do que comprei, e o suporte não resolve.\",\n",
    "    \"A cobrança de juros está errada, nunca atrasei o pagamento.\",\n",
    "    \"O app está travando constantemente e não consigo concluir meus pedidos.\",\n",
    "    \"A atualização do sistema removeu funcionalidades importantes sem aviso.\",\n",
    "    \"Não consigo acessar minha conta, mesmo redefinindo a senha várias vezes.\",\n",
    "    \"Solicitei estorno de uma compra cancelada e até agora não recebi.\",\n",
    "    \"Meu plano foi alterado sem minha autorização.\",\n",
    "    \"O valor da fatura aumentou sem explicação nos últimos dois meses.\",\n",
    "    \"Estou sendo cobrado por um serviço que nunca contratei.\",\n",
    "    \"O sistema de cadastro apresenta erro e não finaliza o processo.\"\n",
    "]"
   ]
  },
  {
   "cell_type": "code",
   "execution_count": 4,
   "id": "4ba2b912",
   "metadata": {},
   "outputs": [],
   "source": [
    "# Criação da estrutura de diretório\n",
    "os.makedirs(\"data\", exist_ok=True)\n",
    "\n",
    "# Salvando como JSON\n",
    "with open(\"data/sample_complaints.json\", \"w\", encoding=\"utf-8\") as f:\n",
    "    json.dump(complaints, f, ensure_ascii=False, indent=2)"
   ]
  },
  {
   "cell_type": "code",
   "execution_count": null,
   "id": "4307cdf2",
   "metadata": {},
   "outputs": [],
   "source": []
  }
 ],
 "metadata": {
  "kernelspec": {
   "display_name": ".venv",
   "language": "python",
   "name": "python3"
  },
  "language_info": {
   "codemirror_mode": {
    "name": "ipython",
    "version": 3
   },
   "file_extension": ".py",
   "mimetype": "text/x-python",
   "name": "python",
   "nbconvert_exporter": "python",
   "pygments_lexer": "ipython3",
   "version": "3.12.3"
  }
 },
 "nbformat": 4,
 "nbformat_minor": 5
}
